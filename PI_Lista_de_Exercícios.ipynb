{
  "nbformat": 4,
  "nbformat_minor": 0,
  "metadata": {
    "colab": {
      "name": "PI - Lista de Exercícios",
      "provenance": [],
      "authorship_tag": "ABX9TyO9WpPmyVsRo/BpEek/0PHF",
      "include_colab_link": true
    },
    "kernelspec": {
      "name": "python3",
      "display_name": "Python 3"
    },
    "language_info": {
      "name": "python"
    }
  },
  "cells": [
    {
      "cell_type": "markdown",
      "metadata": {
        "id": "view-in-github",
        "colab_type": "text"
      },
      "source": [
        "<a href=\"https://colab.research.google.com/github/IgorDaniel182/Atividade-PNT1/blob/main/PI_Lista_de_Exerc%C3%ADcios.ipynb\" target=\"_parent\"><img src=\"https://colab.research.google.com/assets/colab-badge.svg\" alt=\"Open In Colab\"/></a>"
      ]
    },
    {
      "cell_type": "code",
      "metadata": {
        "id": "zhbRj1ctkxQp"
      },
      "source": [
        "numero = input('me diga um numero:') \n",
        "print('O numero informado é:', numero, 'acertei?')"
      ],
      "execution_count": null,
      "outputs": []
    },
    {
      "cell_type": "code",
      "metadata": {
        "id": "6Aiscjykk7Fs"
      },
      "source": [
        "n1 = int(input('Digite um número:'))\n",
        "n2 = int(input('Digite mais um número:'))\n",
        "s = n1+n2 \n",
        "print('A soma vale: ', s)"
      ],
      "execution_count": null,
      "outputs": []
    },
    {
      "cell_type": "code",
      "metadata": {
        "id": "wNAOxwoqlHwa"
      },
      "source": [
        "n1 = float(input('Digite sua primeira nota:'))\n",
        "n2 = float(input('Digite sua segunda nota:')) \n",
        "n3 = float(input('Digite sua terceira nota:')) \n",
        "n4 = float(input('Digite sua quarta nota:')) \n",
        "s = n1+n2+n3+n4 \n",
        "d = s/4 \n",
        "print('A sua nota é: ', d)"
      ],
      "execution_count": null,
      "outputs": []
    },
    {
      "cell_type": "code",
      "metadata": {
        "id": "pVGrQXeelPc6"
      },
      "source": [
        "n1 = float(input('Digite um numero em metros para trasnformar para centimetros:')) \n",
        "t = n1*100 \n",
        "print('O seu numero transformado em centímetros é:', t)"
      ],
      "execution_count": null,
      "outputs": []
    },
    {
      "cell_type": "code",
      "metadata": {
        "colab": {
          "base_uri": "https://localhost:8080/"
        },
        "id": "sXLbcCcVlW7z",
        "outputId": "0d633ebe-30d2-47ca-f2cd-bc98f699841b"
      },
      "source": [
        "n1 = float(input('Digite o raio do circulo que você esta calculando: ')) \n",
        "m = n1 * 3.14\n",
        "print('A area desse circulo é: ', m,)"
      ],
      "execution_count": 3,
      "outputs": [
        {
          "output_type": "stream",
          "name": "stdout",
          "text": [
            "Digite o raio do circulo que você esta calculando12\n",
            "A area desse circulo é:  37.68\n"
          ]
        }
      ]
    },
    {
      "cell_type": "code",
      "metadata": {
        "colab": {
          "base_uri": "https://localhost:8080/"
        },
        "id": "GHf61KNFlZ7i",
        "outputId": "64b9e81d-02bb-4b14-8f60-7a845852fcc7"
      },
      "source": [
        "n1 = float(input('Digite a medida do lado do seu quadrado:')) \n",
        "m = n1*n1 \n",
        "print('O resultado de 2 quadrados com mesma área que obtivemos é: ', m)"
      ],
      "execution_count": 2,
      "outputs": [
        {
          "output_type": "stream",
          "name": "stdout",
          "text": [
            "Digite a medida do lado do seu quadrado:20\n",
            "O resultado de 2 quadrados com mesma área que obtivemos é:  400.0\n"
          ]
        }
      ]
    },
    {
      "cell_type": "code",
      "metadata": {
        "id": "QXPE7U9zltNC"
      },
      "source": [
        "n1 = float(input('Digite o quanto de dinheiro você ganha em uma hora de trabalho:')) \n",
        "n2 = float(input('Digite quantas horas você trabalha em um mês:')) \n",
        "m = n1*n2 \n",
        "print('O dinheiro que você ganhará no final do mês é de:', m)"
      ],
      "execution_count": null,
      "outputs": []
    },
    {
      "cell_type": "code",
      "metadata": {
        "colab": {
          "base_uri": "https://localhost:8080/"
        },
        "id": "FHgqsDLulwnS",
        "outputId": "4ad0f26d-2b7a-4760-fad3-850e44af9c6f"
      },
      "source": [
        "n1 = float(input('Digite um numero: ')) \n",
        "if n1 > 0: \n",
        "  print('Este numero é positivo!') \n",
        "else: print('Este numero é negativo!')"
      ],
      "execution_count": 6,
      "outputs": [
        {
          "output_type": "stream",
          "name": "stdout",
          "text": [
            "Digite um numero4\n",
            "Este numero é positivo\n"
          ]
        }
      ]
    }
  ]
}